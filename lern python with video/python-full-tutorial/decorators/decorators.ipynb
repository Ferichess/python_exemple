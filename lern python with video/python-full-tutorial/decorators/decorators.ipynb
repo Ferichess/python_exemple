{
  "cells": [
    {
      "cell_type": "markdown",
      "metadata": {
        "id": "opCaaQaR9_8k"
      },
      "source": [
        "# Decorators di Python"
      ]
    },
    {
      "cell_type": "markdown",
      "metadata": {
        "id": "50xE_bfw-UUI"
      },
      "source": [
        "Decorators adalah alat atau cara yang sangat powerfull di python sendiri karena dengan decorator kita dapat melakukan modifikasi behaviour dari sebuah function atau class.\n",
        "\n",
        "Function sendiri di python bisa disebut sebagai first order/class object. Artinya function dapat menjadi argumen function lain. selain itu function juga dapat di definisikan didalam function, atau disebut nested function."
      ]
    },
    {
      "cell_type": "code",
      "execution_count": null,
      "metadata": {
        "id": "NvOfjfze12if"
      },
      "outputs": [],
      "source": [
        "def hello():\n",
        "    print(\"hello there\")"
      ]
    },
    {
      "cell_type": "code",
      "execution_count": null,
      "metadata": {
        "id": "vHnVYrX36PMZ"
      },
      "outputs": [],
      "source": [
        "menyapa = hello"
      ]
    },
    {
      "cell_type": "code",
      "execution_count": null,
      "metadata": {
        "colab": {
          "base_uri": "https://localhost:8080/"
        },
        "id": "-XPJUpjT6PIV",
        "outputId": "83d224b6-1210-41c8-eb89-26b226c0552e"
      },
      "outputs": [
        {
          "name": "stdout",
          "output_type": "stream",
          "text": [
            "hello there\n"
          ]
        }
      ],
      "source": [
        "menyapa()"
      ]
    },
    {
      "cell_type": "code",
      "execution_count": null,
      "metadata": {
        "colab": {
          "base_uri": "https://localhost:8080/"
        },
        "id": "LrQt299j6PFV",
        "outputId": "b1265c90-6cb9-46cf-8d0e-2631f9efb923"
      },
      "outputs": [
        {
          "data": {
            "text/plain": [
              "<function __main__.hello()>"
            ]
          },
          "execution_count": 43,
          "metadata": {},
          "output_type": "execute_result"
        }
      ],
      "source": [
        "menyapa"
      ]
    },
    {
      "cell_type": "code",
      "execution_count": null,
      "metadata": {
        "id": "0etnD1I812fq"
      },
      "outputs": [],
      "source": [
        "def greet_decoration(fungsi):\n",
        "    print(\"ini fungsi greet\")\n",
        "\n",
        "    def hai():\n",
        "        print(\"ini fungsi hai\")\n",
        "        fungsi()\n",
        "        print(\"ini execute setelah argumen fungsi\")\n",
        "\n",
        "    return hai"
      ]
    },
    {
      "cell_type": "code",
      "execution_count": null,
      "metadata": {
        "id": "9iFscRHG1xn3"
      },
      "outputs": [],
      "source": [
        "def fungsi_biasa_decorated():\n",
        "    print(\"ini fungsi biasa yang akan di dekorasi\")"
      ]
    },
    {
      "cell_type": "code",
      "execution_count": null,
      "metadata": {
        "colab": {
          "base_uri": "https://localhost:8080/"
        },
        "id": "bQ0Akq1P1xff",
        "outputId": "5fcae349-e011-4dcd-d85b-04aa167da4b0"
      },
      "outputs": [
        {
          "name": "stdout",
          "output_type": "stream",
          "text": [
            "ini fungsi biasa yang akan di dekorasi\n"
          ]
        }
      ],
      "source": [
        "fungsi_biasa_decorated()"
      ]
    },
    {
      "cell_type": "code",
      "execution_count": null,
      "metadata": {
        "id": "sR_Zlwdr1xRX"
      },
      "outputs": [],
      "source": []
    }
  ],
  "metadata": {
    "colab": {
      "provenance": []
    },
    "kernelspec": {
      "display_name": "Python 3",
      "name": "python3"
    },
    "language_info": {
      "name": "python"
    }
  },
  "nbformat": 4,
  "nbformat_minor": 0
}
